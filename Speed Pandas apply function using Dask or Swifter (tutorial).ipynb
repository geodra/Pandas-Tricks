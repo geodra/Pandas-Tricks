{
 "cells": [
  {
   "cell_type": "code",
   "execution_count": 1,
   "metadata": {},
   "outputs": [
    {
     "name": "stderr",
     "output_type": "stream",
     "text": [
      "/Users/Georgios.Drakos/anaconda3/envs/bedswap-env/lib/python3.7/site-packages/tqdm/autonotebook/__init__.py:14: TqdmExperimentalWarning: Using `tqdm.autonotebook.tqdm` in notebook mode. Use `tqdm.tqdm` instead to force console mode (e.g. in jupyter console)\n",
      "  \" (e.g. in jupyter console)\", TqdmExperimentalWarning)\n"
     ]
    }
   ],
   "source": [
    "import pandas as pd\n",
    "import numpy as np\n",
    "import dask.dataframe as dd\n",
    "import multiprocessing\n",
    "import swifter\n",
    "import warnings\n",
    "warnings.filterwarnings('ignore')"
   ]
  },
  {
   "cell_type": "code",
   "execution_count": 2,
   "metadata": {},
   "outputs": [],
   "source": [
    "data = pd.DataFrame()\n",
    "data['col1'] = np.random.normal(size = 15000000)\n",
    "data['col2'] = np.random.normal(size = 15000000)\n",
    "def myfunc(x,y): return y*(x**2+1)"
   ]
  },
  {
   "cell_type": "code",
   "execution_count": 3,
   "metadata": {},
   "outputs": [
    {
     "name": "stdout",
     "output_type": "stream",
     "text": [
      "CPU times: user 5min 52s, sys: 1.9 s, total: 5min 53s\n",
      "Wall time: 5min 57s\n"
     ]
    }
   ],
   "source": [
    "%%time\n",
    "df = data.apply(lambda row: myfunc(row.col1,row.col2), axis=1)"
   ]
  },
  {
   "cell_type": "code",
   "execution_count": 4,
   "metadata": {},
   "outputs": [
    {
     "name": "stdout",
     "output_type": "stream",
     "text": [
      "CPU times: user 1.25 s, sys: 1.67 s, total: 2.92 s\n",
      "Wall time: 2min 55s\n"
     ]
    }
   ],
   "source": [
    "%%time \n",
    "ddata = dd.from_pandas(data, npartitions=2*multiprocessing.cpu_count())\\\n",
    ".map_partitions(lambda df: df.apply((lambda row: myfunc(row.col1,row.col2)), axis=1))\\\n",
    ".compute(scheduler='processes')"
   ]
  },
  {
   "cell_type": "code",
   "execution_count": 5,
   "metadata": {},
   "outputs": [
    {
     "name": "stdout",
     "output_type": "stream",
     "text": [
      "CPU times: user 5min 58s, sys: 4.8 s, total: 6min 3s\n",
      "Wall time: 6min 6s\n"
     ]
    }
   ],
   "source": [
    "%%time \n",
    "ddata = dd.from_pandas(data, npartitions=2*multiprocessing.cpu_count())\\\n",
    ".map_partitions(lambda df: df.apply((lambda row: myfunc(row.col1,row.col2)), axis=1))\\\n",
    ".compute(scheduler='threads')"
   ]
  },
  {
   "cell_type": "code",
   "execution_count": 9,
   "metadata": {},
   "outputs": [
    {
     "name": "stdout",
     "output_type": "stream",
     "text": [
      "CPU times: user 5min 40s, sys: 1.03 s, total: 5min 41s\n",
      "Wall time: 5min 43s\n"
     ]
    }
   ],
   "source": [
    "%%time \n",
    "ddata = dd.from_pandas(data, npartitions=2*multiprocessing.cpu_count())\\\n",
    ".map_partitions(lambda df: df.apply((lambda row: myfunc(row.col1,row.col2)), axis=1))\\\n",
    ".compute(scheduler='single-threaded')"
   ]
  },
  {
   "cell_type": "code",
   "execution_count": 10,
   "metadata": {},
   "outputs": [
    {
     "name": "stdout",
     "output_type": "stream",
     "text": [
      "CPU times: user 1.43 s, sys: 3.03 s, total: 4.46 s\n",
      "Wall time: 3min\n"
     ]
    }
   ],
   "source": [
    "%%time \n",
    "ddata = dd.from_pandas(data, npartitions=1)\\\n",
    ".map_partitions(lambda df: df.apply((lambda row: myfunc(row.col1,row.col2)), axis=1))\\\n",
    ".compute(scheduler='processes')"
   ]
  },
  {
   "cell_type": "code",
   "execution_count": 11,
   "metadata": {},
   "outputs": [
    {
     "name": "stdout",
     "output_type": "stream",
     "text": [
      "CPU times: user 137 ms, sys: 85.9 ms, total: 223 ms\n",
      "Wall time: 111 ms\n"
     ]
    }
   ],
   "source": [
    "%%time\n",
    "df = data.swifter.apply(lambda row: myfunc(row.col1,row.col2), axis=1)"
   ]
  },
  {
   "cell_type": "code",
   "execution_count": 12,
   "metadata": {},
   "outputs": [
    {
     "name": "stdout",
     "output_type": "stream",
     "text": [
      "CPU times: user 153 ms, sys: 72.3 ms, total: 225 ms\n",
      "Wall time: 112 ms\n"
     ]
    }
   ],
   "source": [
    "%%time\n",
    "df = myfunc(data['col1'], data['col2']  )"
   ]
  },
  {
   "cell_type": "code",
   "execution_count": null,
   "metadata": {},
   "outputs": [],
   "source": []
  }
 ],
 "metadata": {
  "kernelspec": {
   "display_name": "Python (bedswap-env)\n",
   "language": "python",
   "name": "bedswap-env"
  },
  "language_info": {
   "codemirror_mode": {
    "name": "ipython",
    "version": 3
   },
   "file_extension": ".py",
   "mimetype": "text/x-python",
   "name": "python",
   "nbconvert_exporter": "python",
   "pygments_lexer": "ipython3",
   "version": "3.7.2"
  }
 },
 "nbformat": 4,
 "nbformat_minor": 2
}
